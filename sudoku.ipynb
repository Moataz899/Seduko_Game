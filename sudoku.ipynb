{
 "cells": [
  {
   "cell_type": "code",
   "execution_count": 4,
   "metadata": {},
   "outputs": [],
   "source": [
    "\n",
    "board = [\n",
    "    [5, 3, 0, 0, 7, 0, 0, 0, 0],\n",
    "    [6, 0, 0, 1, 9, 5, 0, 0, 0],\n",
    "    [0, 9, 8, 0, 0, 0, 0, 6, 0],\n",
    "    [8, 0, 0, 0, 6, 0, 0, 0, 3],\n",
    "    [4, 0, 0, 8, 0, 3, 0, 0, 1],\n",
    "    [7, 0, 0, 0, 2, 0, 0, 0, 6],\n",
    "    [0, 6, 0, 0, 0, 0, 2, 8, 0],\n",
    "    [0, 0, 0, 4, 1, 9, 0, 0, 5],\n",
    "    [0, 0, 0, 0, 8, 0, 0, 7, 9]\n",
    "]"
   ]
  },
  {
   "cell_type": "code",
   "execution_count": 5,
   "metadata": {},
   "outputs": [],
   "source": [
    "def is_valid_move(board, row, col, number):\n",
    "    for x in range(9):\n",
    "        if board[row][x] == number:\n",
    "            return False\n",
    "\n",
    "    for x in range(9):\n",
    "        if board[x][col] == number:\n",
    "            return False\n",
    "\n",
    "    corner_row = row // 3 * 3\n",
    "    corner_col = col // 3 * 3\n",
    "    for x in range(3):\n",
    "        for y in range(3):\n",
    "            if board[corner_row + x][corner_col + y] == number:\n",
    "                return False\n",
    "    return True"
   ]
  },
  {
   "cell_type": "code",
   "execution_count": 6,
   "metadata": {},
   "outputs": [],
   "source": [
    "\n",
    "def solve(board, row, col):\n",
    "    if col == 9:\n",
    "        if row == 8:\n",
    "            return True\n",
    "        row += 1\n",
    "        col = 0\n",
    "\n",
    "    if board[row][col] > 0:\n",
    "        return solve(board, row, col + 1)\n",
    "\n",
    "    for num in range(1, 10):\n",
    "        if is_valid_move(board, row, col, num):\n",
    "            board[row][col] = num\n",
    "\n",
    "            if solve(board, row, col + 1):\n",
    "                return True\n",
    "            board[row][col] = 0\n",
    "\n",
    "    return False"
   ]
  },
  {
   "cell_type": "code",
   "execution_count": 7,
   "metadata": {},
   "outputs": [],
   "source": [
    "\n",
    "def print_board(board):\n",
    "    for i in range(len(board)):\n",
    "        if i % 3 == 0 and i != 0:\n",
    "            print(\"- - - - - - - - - - - - \")\n",
    "\n",
    "        for j in range(len(board[0])):\n",
    "            if j % 3 == 0 and j != 0:\n",
    "                print(\" | \", end=\"\")\n",
    "\n",
    "            if j == 8:\n",
    "                print(board[i][j])\n",
    "            else:\n",
    "                print(str(board[i][j]) + \" \", end=\"\")\n"
   ]
  },
  {
   "cell_type": "code",
   "execution_count": 8,
   "metadata": {},
   "outputs": [
    {
     "name": "stdout",
     "output_type": "stream",
     "text": [
      "Initial Sudoku grid:\n",
      "5 3 0  | 0 7 0  | 0 0 0\n",
      "6 0 0  | 1 9 5  | 0 0 0\n",
      "0 9 8  | 0 0 0  | 0 6 0\n",
      "- - - - - - - - - - - - \n",
      "8 0 0  | 0 6 0  | 0 0 3\n",
      "4 0 0  | 8 0 3  | 0 0 1\n",
      "7 0 0  | 0 2 0  | 0 0 6\n",
      "- - - - - - - - - - - - \n",
      "0 6 0  | 0 0 0  | 2 8 0\n",
      "0 0 0  | 4 1 9  | 0 0 5\n",
      "0 0 0  | 0 8 0  | 0 7 9\n",
      "\n",
      "Sudoku solved:\n",
      "5 3 4  | 6 7 8  | 9 1 2\n",
      "6 7 2  | 1 9 5  | 3 4 8\n",
      "1 9 8  | 3 4 2  | 5 6 7\n",
      "- - - - - - - - - - - - \n",
      "8 5 9  | 7 6 1  | 4 2 3\n",
      "4 2 6  | 8 5 3  | 7 9 1\n",
      "7 1 3  | 9 2 4  | 8 5 6\n",
      "- - - - - - - - - - - - \n",
      "9 6 1  | 5 3 7  | 2 8 4\n",
      "2 8 7  | 4 1 9  | 6 3 5\n",
      "3 4 5  | 2 8 6  | 1 7 9\n"
     ]
    }
   ],
   "source": [
    "\n",
    "print(\"Initial Sudoku grid:\")\n",
    "print_board(board)\n",
    "\n",
    "if solve(board, 0, 0):\n",
    "    print(\"\\nSudoku solved:\")\n",
    "    print_board(board)\n",
    "else:\n",
    "    print(\"No solution found.\")"
   ]
  }
 ],
 "metadata": {
  "kernelspec": {
   "display_name": "Python 3",
   "language": "python",
   "name": "python3"
  },
  "language_info": {
   "codemirror_mode": {
    "name": "ipython",
    "version": 3
   },
   "file_extension": ".py",
   "mimetype": "text/x-python",
   "name": "python",
   "nbconvert_exporter": "python",
   "pygments_lexer": "ipython3",
   "version": "3.12.0"
  }
 },
 "nbformat": 4,
 "nbformat_minor": 2
}
